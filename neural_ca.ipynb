{
 "cells": [
  {
   "cell_type": "markdown",
   "metadata": {},
   "source": [
    "<a href=\"https://colab.research.google.com/github/ekgren/neural_ca/blob/main/neural_ca.ipynb\" target=\"_parent\">\n",
    "    <img src=\"https://colab.research.google.com/assets/colab-badge.svg\" alt=\"Open In Colab\"/>\n",
    "</a>"
   ]
  },
  {
   "cell_type": "markdown",
   "metadata": {},
   "source": [
    "# Neural CA"
   ]
  },
  {
   "cell_type": "code",
   "execution_count": null,
   "metadata": {},
   "outputs": [],
   "source": [
    "!git clone -l -s git://github.com/ekgren/neural_ca.git neural_ca\n",
    "%cd neural_ca"
   ]
  },
  {
   "cell_type": "code",
   "execution_count": null,
   "metadata": {},
   "outputs": [],
   "source": [
    "import torch\n",
    "from torch import nn\n",
    "import matplotlib.pyplot as plt\n",
    "import time\n",
    "import torch.nn.functional as F\n",
    "import torch.optim as optim\n",
    "import random\n",
    "import torchvision\n",
    "from torchvision import datasets, models, transforms\n",
    "\n",
    "import numpy as np\n",
    "\n",
    "import matplotlib.pylab as pl\n",
    "import glob\n",
    "from IPython.display import Image, HTML, clear_output\n",
    "import tqdm\n",
    "\n",
    "from src.tools import *"
   ]
  },
  {
   "cell_type": "code",
   "execution_count": null,
   "metadata": {},
   "outputs": [],
   "source": [
    "class Net(nn.Module):\n",
    "    def __init__(self, in_dim=16, image_dim=64):\n",
    "        super(Net, self).__init__()\n",
    "        self.in_dim = in_dim\n",
    "        self.image_dim = image_dim\n",
    "        self.conv = torch.nn.Conv2d(in_channels=1,\n",
    "                                    out_channels=2,\n",
    "                                    kernel_size=3,\n",
    "                                    padding=(1, 1),\n",
    "                                    groups=1,\n",
    "                                    padding_mode='circular',\n",
    "                                    bias=False)\n",
    "        self.ff1 = nn.Linear(3*self.in_dim, 3*4*self.in_dim, bias=False)\n",
    "        self.ff2 = nn.Linear(3*4*self.in_dim, self.in_dim, bias=False)\n",
    "        self.ff2.weight.data.fill_(0.0)\n",
    "\n",
    "    def forward(self, state_grid):\n",
    "        state_grid = state_grid\n",
    "        grad = self.conv(state_grid)\n",
    "        perception_grid = torch.cat([state_grid, grad], dim=1)\n",
    "        perception_vectors = perception_grid.view(3*self.in_dim, self.image_dim*self.image_dim).transpose(0, 1)\n",
    "        update = self.ff2(torch.relu(self.ff1(perception_vectors)))\n",
    "        update = update.transpose(0, 1).view(self.in_dim, 1, self.image_dim, self.image_dim)\n",
    "        return update"
   ]
  },
  {
   "cell_type": "code",
   "execution_count": null,
   "metadata": {},
   "outputs": [],
   "source": [
    "in_dim = 16\n",
    "im_dim = 224\n",
    "model_ft = models.resnet18(pretrained=True).eval().cuda()\n",
    "net = Net(in_dim=in_dim, image_dim=im_dim).train().cuda()\n",
    "\n",
    "a = torch.nn.Parameter(torch.rand(in_dim, 1, im_dim, im_dim, requires_grad=True).cuda())\n",
    "normalize = transforms.Normalize(mean=[0.485, 0.456, 0.406],\n",
    "                                 std=[0.229, 0.224, 0.225])\n",
    "\n",
    "loss = torch.nn.CrossEntropyLoss()\n",
    "opt = torch.optim.Adam([a] + list(net.parameters()), lr=1e-4)\n",
    "plt.imshow(a.detach().transpose(0, 2).transpose(1, 3)[:, :, :3, 0].cpu())"
   ]
  },
  {
   "cell_type": "code",
   "execution_count": null,
   "metadata": {},
   "outputs": [],
   "source": [
    "for i in range(10):\n",
    "    a = torch.nn.Parameter(torch.rand(in_dim, 1, im_dim, im_dim, requires_grad=True).cuda())\n",
    "    c = torch.zeros(in_dim, 1, im_dim, im_dim).cuda()\n",
    "    for j in range(4):\n",
    "        opt.zero_grad()\n",
    "        a = a.detach()\n",
    "        c = c.detach()\n",
    "        for k in range(random.randint(32, 96)):\n",
    "            c = net(a)\n",
    "            a = a + c\n",
    "            a = torch.cat([a[:3, :, :, :].clamp(0, 1), a[3:, :, :, :]], dim=0)\n",
    "        #d = normalize(a.transpose(0, 1)[0, :3, :, :])\n",
    "        #d = model_ft(d.unsqueeze(0))\n",
    "        #l = loss(d, y_true)\n",
    "        d = model_ft(a.transpose(0, 1)[:, :3, :, :])\n",
    "        l = d.norm()\n",
    "        l.backward()\n",
    "        opt.step()\n",
    "\n",
    "with VideoWriter(fps=24) as vid:\n",
    "    for i in range(1):\n",
    "        a = torch.nn.Parameter(torch.rand(in_dim, 1, im_dim, im_dim, requires_grad=True).cuda())\n",
    "        c = torch.zeros(in_dim, 1, 64, 64).cuda()\n",
    "        for j in range(4):\n",
    "            opt.zero_grad()\n",
    "            a = a.detach()\n",
    "            c = c.detach()\n",
    "            for k in range(random.randint(32, 96)):\n",
    "                c = net(a)\n",
    "                a = a + c\n",
    "                a = torch.cat([a[:3, :, :, :].clamp(0, 1), a[3:, :, :, :]], dim=0)\n",
    "                if k % 2 == 0:\n",
    "                    plot = a.detach().transpose(0, 2).transpose(1, 3)[:, :, :3, 0].cpu()\n",
    "                    #vid.add(zoom(plot))\n",
    "                    vid.add(plot)\n",
    "            #d = normalize(a.transpose(0, 1)[0, :3, :, :])\n",
    "            #d = model_ft(d.unsqueeze(0).clamp(0, 1))\n",
    "            #l = loss(d, y_true)\n",
    "            d = model_ft(a.transpose(0, 1)[:, :3, :, :])\n",
    "            l = d.norm()\n",
    "            l.backward()\n",
    "            opt.step()"
   ]
  }
 ],
 "metadata": {
  "kernelspec": {
   "display_name": "Python 3",
   "language": "python",
   "name": "python3"
  },
  "language_info": {
   "codemirror_mode": {
    "name": "ipython",
    "version": 3
   },
   "file_extension": ".py",
   "mimetype": "text/x-python",
   "name": "python",
   "nbconvert_exporter": "python",
   "pygments_lexer": "ipython3",
   "version": "3.7.6"
  }
 },
 "nbformat": 4,
 "nbformat_minor": 1
}
